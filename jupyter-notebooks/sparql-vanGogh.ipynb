{
 "cells": [
  {
   "cell_type": "markdown",
   "metadata": {},
   "source": [
    "# SPARQL about van Gogh\n",
    "\n",
    "<div style=\"color: red; font-style: italic;\">Note: when viewed through <span style=\"font-style: normal; font-weight: bold;\">nbviewer</span> or converted through <span style=\"font-style: normal; font-weight: bold;\">nbconvert</span> this notebook looks slightly different than when rendered by a running <em>sparqlkernel</em>. See a <a href=\"http://htmlpreview.github.io/?https://github.com/paulovn/sparql-kernel/blob/master/examples/sparql-vanGogh.html\">converted version</a> for an example more similar to the actual look in a \"live\" kernel.</div>\n",
    "\n",
    "We are going to use some the [DBPedia SPARQL endpoint](http://wiki.dbpedia.org/OnlineAccess#1.1%20Public%20SPARQL%20Endpoint) to do some queries related to _Vincent van Gogh_.\n",
    "\n",
    "First we define the endpoint and the preferred language for labels"
   ]
  },
  {
   "cell_type": "code",
   "execution_count": 1,
   "metadata": {},
   "outputs": [
    {
     "data": {
      "text/html": [
       "<div class=\"krn-spql\"><div class=\"magic\">Endpoint set to: http://dbpedia.org/sparql</div><div class=\"magic\">Label preferred languages: [u'en']</div><div class=\"magic\">Logging set to DEBUG</div></div>"
      ],
      "text/plain": [
       "Endpoint set to: http://dbpedia.org/sparql\n",
       "Label preferred languages: [u'en']\n",
       "Logging set to DEBUG\n"
      ]
     },
     "metadata": {},
     "output_type": "display_data"
    }
   ],
   "source": [
    "%endpoint http://dbpedia.org/sparql\n",
    "%lang en\n",
    "\n",
    "# This is optional, it would increase the log level.\n",
    "# The default logfile (unless changed upon kernel installation) is [TMPDIR]/sparqlkernel.log, \n",
    "# where [TMPDIR] is the platform default temporal directory\n",
    "%log debug"
   ]
  },
  {
   "cell_type": "markdown",
   "metadata": {},
   "source": [
    "Now let's find out the entity URI for _van Gogh_ in DBPedia. We search entities that are persons and whose label contains `van Gogh` (case insensitive).\n",
    "\n",
    "Note that the DBPedia endpoint has a set of [predefined namespace prefixes](http://dbpedia.org/sparql?nsdecl) that we can use without the need to define them in the query, such as `rdfs:` or `foaf:` so we could remove them from the query without problem."
   ]
  },
  {
   "cell_type": "code",
   "execution_count": 11,
   "metadata": {},
   "outputs": [
    {
     "data": {
      "text/html": [
       "<div class=\"krn-spql\"><div class=\"magic\">Return format: JSON</div><div class=\"magic\">Display: raw</div></div>"
      ],
      "text/plain": [
       "Return format: JSON\n",
       "Display: raw\n"
      ]
     },
     "metadata": {},
     "output_type": "display_data"
    },
    {
     "data": {
      "text/plain": [
       "{u'head': {u'link': [], u'vars': [u'person', u'name']},\n",
       " u'results': {u'bindings': [{u'name': {u'type': u'literal',\n",
       "                                       u'value': u'Vincent van Gogh',\n",
       "                                       u'xml:lang': u'en'},\n",
       "                             u'person': {u'type': u'uri',\n",
       "                                         u'value': u'http://dbpedia.org/resource/Vincent_van_Gogh'}},\n",
       "                            {u'name': {u'type': u'literal',\n",
       "                                       u'value': u'Johanna van Gogh-Bonger',\n",
       "                                       u'xml:lang': u'en'},\n",
       "                             u'person': {u'type': u'uri',\n",
       "                                         u'value': u'http://dbpedia.org/resource/Johanna_van_Gogh-Bonger'}},\n",
       "                            {u'name': {u'type': u'literal',\n",
       "                                       u'value': u'Niels van Gogh',\n",
       "                                       u'xml:lang': u'en'},\n",
       "                             u'person': {u'type': u'uri',\n",
       "                                         u'value': u'http://dbpedia.org/resource/Niels_van_Gogh'}},\n",
       "                            {u'name': {u'type': u'literal',\n",
       "                                       u'value': u'Theo van Gogh (art dealer)',\n",
       "                                       u'xml:lang': u'en'},\n",
       "                             u'person': {u'type': u'uri',\n",
       "                                         u'value': u'http://dbpedia.org/resource/Theo_van_Gogh_(art_dealer)'}},\n",
       "                            {u'name': {u'type': u'literal',\n",
       "                                       u'value': u'Natalie van Gogh',\n",
       "                                       u'xml:lang': u'en'},\n",
       "                             u'person': {u'type': u'uri',\n",
       "                                         u'value': u'http://dbpedia.org/resource/Natalie_van_Gogh'}},\n",
       "                            {u'name': {u'type': u'literal',\n",
       "                                       u'value': u'Wil van Gogh',\n",
       "                                       u'xml:lang': u'en'},\n",
       "                             u'person': {u'type': u'uri',\n",
       "                                         u'value': u'http://dbpedia.org/resource/Wil_van_Gogh'}},\n",
       "                            {u'name': {u'type': u'literal',\n",
       "                                       u'value': u'Theo van Gogh (film director)',\n",
       "                                       u'xml:lang': u'en'},\n",
       "                             u'person': {u'type': u'uri',\n",
       "                                         u'value': u'http://dbpedia.org/resource/Theo_van_Gogh_(film_director)'}}],\n",
       "              u'distinct': False,\n",
       "              u'ordered': True}}"
      ]
     },
     "metadata": {},
     "output_type": "display_data"
    }
   ],
   "source": [
    "%format json\n",
    "%display raw\n",
    "\n",
    "PREFIX rdfs: <http://www.w3.org/2000/01/rdf-schema#>\n",
    "PREFIX foaf:  <http://xmlns.com/foaf/0.1/>\n",
    "SELECT ?person ?name\n",
    "WHERE {\n",
    "    ?person a foaf:Person .\n",
    "    ?person rdfs:label ?name\n",
    "    FILTER regex(?name,\"van gogh\",\"i\")\n",
    "    FILTER langMatches(lang(?name),\"en\")\n",
    "} LIMIT 20"
   ]
  },
  {
   "cell_type": "markdown",
   "metadata": {},
   "source": [
    "It is clear from the result that we  want the <http://dbpedia.org/resource/Vincent_van_Gogh> DBPedia entity (we can click on the link for confirmation, and it will lead us to a DBPedia web page describing the resource).\n",
    "\n",
    "## Fact finding\n",
    "\n",
    "Now that we found his URI, let's search for places, dates and people related with van Gogh.\n",
    "\n",
    "In this query we also set the table to show the data type for each result"
   ]
  },
  {
   "cell_type": "code",
   "execution_count": 3,
   "metadata": {},
   "outputs": [
    {
     "data": {
      "text/html": [
       "<div class=\"krn-spql\"><div class=\"magic\">Return format: JSON</div><div class=\"magic\">Display: table<br/>Show Types: on</div></div>"
      ],
      "text/plain": [
       "Return format: JSON\n",
       "Display: table\n",
       "Show Types: on\n"
      ]
     },
     "metadata": {},
     "output_type": "display_data"
    },
    {
     "data": {
      "text/html": [
       "<div class=\"krn-spql\"><table><tr class=hdr><th>prop</th><th>type</th>\n",
       "<th>value</th><th>type</th></tr><tr class=odd><td class=val><a href=\"http://dbpedia.org/ontology/birthDate\" target=\"_other\">http://dbpedia.org/ontology/birthDate</a></td><td class=typ>uri</td>\n",
       "<td class=val>1853-03-30</td><td class=typ>typed-literal</td></tr><tr class=even><td class=val><a href=\"http://dbpedia.org/ontology/birthPlace\" target=\"_other\">http://dbpedia.org/ontology/birthPlace</a></td><td class=typ>uri</td>\n",
       "<td class=val><a href=\"http://dbpedia.org/resource/Zundert\" target=\"_other\">http://dbpedia.org/resource/Zundert</a></td><td class=typ>uri</td></tr><tr class=odd><td class=val><a href=\"http://dbpedia.org/ontology/deathDate\" target=\"_other\">http://dbpedia.org/ontology/deathDate</a></td><td class=typ>uri</td>\n",
       "<td class=val>1890-07-29</td><td class=typ>typed-literal</td></tr><tr class=even><td class=val><a href=\"http://dbpedia.org/ontology/deathPlace\" target=\"_other\">http://dbpedia.org/ontology/deathPlace</a></td><td class=typ>uri</td>\n",
       "<td class=val><a href=\"http://dbpedia.org/resource/Auvers-sur-Oise\" target=\"_other\">http://dbpedia.org/resource/Auvers-sur-Oise</a></td><td class=typ>uri</td></tr><tr class=odd><td class=val><a href=\"http://dbpedia.org/ontology/influenced\" target=\"_other\">http://dbpedia.org/ontology/influenced</a></td><td class=typ>uri</td>\n",
       "<td class=val><a href=\"http://dbpedia.org/resource/Adolphe_Monticelli\" target=\"_other\">http://dbpedia.org/resource/Adolphe_Monticelli</a></td><td class=typ>uri</td></tr><tr class=even><td class=val><a href=\"http://dbpedia.org/ontology/influencedBy\" target=\"_other\">http://dbpedia.org/ontology/influencedBy</a></td><td class=typ>uri</td>\n",
       "<td class=val><a href=\"http://dbpedia.org/resource/Hadaa_Sendoo\" target=\"_other\">http://dbpedia.org/resource/Hadaa_Sendoo</a></td><td class=typ>uri</td></tr><tr class=odd><td class=val><a href=\"http://dbpedia.org/ontology/influencedBy\" target=\"_other\">http://dbpedia.org/ontology/influencedBy</a></td><td class=typ>uri</td>\n",
       "<td class=val><a href=\"http://dbpedia.org/resource/Roger_Ing\" target=\"_other\">http://dbpedia.org/resource/Roger_Ing</a></td><td class=typ>uri</td></tr><tr class=even><td class=val><a href=\"http://dbpedia.org/ontology/influencedBy\" target=\"_other\">http://dbpedia.org/ontology/influencedBy</a></td><td class=typ>uri</td>\n",
       "<td class=val><a href=\"http://dbpedia.org/resource/Dick_Bruna\" target=\"_other\">http://dbpedia.org/resource/Dick_Bruna</a></td><td class=typ>uri</td></tr><tr class=odd><td class=val><a href=\"http://dbpedia.org/ontology/influencedBy\" target=\"_other\">http://dbpedia.org/ontology/influencedBy</a></td><td class=typ>uri</td>\n",
       "<td class=val><a href=\"http://dbpedia.org/resource/Emilio_Boggio\" target=\"_other\">http://dbpedia.org/resource/Emilio_Boggio</a></td><td class=typ>uri</td></tr><tr class=even><td class=val><a href=\"http://dbpedia.org/ontology/influencedBy\" target=\"_other\">http://dbpedia.org/ontology/influencedBy</a></td><td class=typ>uri</td>\n",
       "<td class=val><a href=\"http://dbpedia.org/resource/Joan_Glass\" target=\"_other\">http://dbpedia.org/resource/Joan_Glass</a></td><td class=typ>uri</td></tr><tr class=odd><td class=val><a href=\"http://dbpedia.org/ontology/influencedBy\" target=\"_other\">http://dbpedia.org/ontology/influencedBy</a></td><td class=typ>uri</td>\n",
       "<td class=val><a href=\"http://dbpedia.org/resource/Axel_Törneman\" target=\"_other\">http://dbpedia.org/resource/Axel_Törneman</a></td><td class=typ>uri</td></tr><tr class=even><td class=val><a href=\"http://dbpedia.org/ontology/influencedBy\" target=\"_other\">http://dbpedia.org/ontology/influencedBy</a></td><td class=typ>uri</td>\n",
       "<td class=val><a href=\"http://dbpedia.org/resource/Leo_Marchutz\" target=\"_other\">http://dbpedia.org/resource/Leo_Marchutz</a></td><td class=typ>uri</td></tr><tr class=odd><td class=val><a href=\"http://dbpedia.org/ontology/influencedBy\" target=\"_other\">http://dbpedia.org/ontology/influencedBy</a></td><td class=typ>uri</td>\n",
       "<td class=val><a href=\"http://dbpedia.org/resource/James_Kelly_(abstract_expressionist_artist)\" target=\"_other\">http://dbpedia.org/resource/James_Kelly_(abstract_expressionist_artist)</a></td><td class=typ>uri</td></tr><tr class=even><td class=val><a href=\"http://dbpedia.org/ontology/influencedBy\" target=\"_other\">http://dbpedia.org/ontology/influencedBy</a></td><td class=typ>uri</td>\n",
       "<td class=val><a href=\"http://dbpedia.org/resource/Hai_Zi\" target=\"_other\">http://dbpedia.org/resource/Hai_Zi</a></td><td class=typ>uri</td></tr><tr class=odd><td class=val><a href=\"http://dbpedia.org/ontology/influencedBy\" target=\"_other\">http://dbpedia.org/ontology/influencedBy</a></td><td class=typ>uri</td>\n",
       "<td class=val><a href=\"http://dbpedia.org/resource/Annette_P._Jimerson\" target=\"_other\">http://dbpedia.org/resource/Annette_P._Jimerson</a></td><td class=typ>uri</td></tr><tr class=even><td class=val><a href=\"http://dbpedia.org/ontology/influencedBy\" target=\"_other\">http://dbpedia.org/ontology/influencedBy</a></td><td class=typ>uri</td>\n",
       "<td class=val><a href=\"http://dbpedia.org/resource/Giorgio_De_Vincenzi\" target=\"_other\">http://dbpedia.org/resource/Giorgio_De_Vincenzi</a></td><td class=typ>uri</td></tr><tr class=odd><td class=val><a href=\"http://dbpedia.org/ontology/influencedBy\" target=\"_other\">http://dbpedia.org/ontology/influencedBy</a></td><td class=typ>uri</td>\n",
       "<td class=val><a href=\"http://dbpedia.org/resource/Purvis_Young\" target=\"_other\">http://dbpedia.org/resource/Purvis_Young</a></td><td class=typ>uri</td></tr><tr class=even><td class=val><a href=\"http://dbpedia.org/ontology/influencedBy\" target=\"_other\">http://dbpedia.org/ontology/influencedBy</a></td><td class=typ>uri</td>\n",
       "<td class=val><a href=\"http://dbpedia.org/resource/Victor_Stabin\" target=\"_other\">http://dbpedia.org/resource/Victor_Stabin</a></td><td class=typ>uri</td></tr><tr class=odd><td class=val><a href=\"http://dbpedia.org/ontology/influencedBy\" target=\"_other\">http://dbpedia.org/ontology/influencedBy</a></td><td class=typ>uri</td>\n",
       "<td class=val><a href=\"http://dbpedia.org/resource/Chuck_Connelly\" target=\"_other\">http://dbpedia.org/resource/Chuck_Connelly</a></td><td class=typ>uri</td></tr><tr class=even><td class=val><a href=\"http://dbpedia.org/ontology/influencedBy\" target=\"_other\">http://dbpedia.org/ontology/influencedBy</a></td><td class=typ>uri</td>\n",
       "<td class=val><a href=\"http://dbpedia.org/resource/Aung_Khin\" target=\"_other\">http://dbpedia.org/resource/Aung_Khin</a></td><td class=typ>uri</td></tr></table><div class=\"tinfo\">Total: 32, Shown: 20</div></div>"
      ]
     },
     "metadata": {},
     "output_type": "display_data"
    }
   ],
   "source": [
    "%format json\n",
    "%display table withtypes\n",
    "\n",
    "# We might have more than one triple pointing to the same object, so we group by object\n",
    "# and take one arbitrary predicate\n",
    "\n",
    "SELECT (SAMPLE(?pred) AS ?prop) ?value\n",
    "WHERE {\n",
    "\n",
    "    # Places and dates\n",
    "    {\n",
    "        dbr:Vincent_van_Gogh ?pred ?value  .\n",
    "        { ?pred rdfs:range xsd:date }\n",
    "        UNION\n",
    "        { ?pred rdfs:range dbo:Place }\n",
    "    }\n",
    "    # People van Gogh relates to\n",
    "    UNION \n",
    "    { \n",
    "        dbr:Vincent_van_Gogh ?pred ?value  .\n",
    "        ?value a foaf:Person \n",
    "    }\n",
    "    # People related to van Gogh\n",
    "    UNION \n",
    "    { \n",
    "        ?value ?pred dbr:Vincent_van_Gogh   .\n",
    "        ?value a foaf:Person \n",
    "    }\n",
    "\n",
    "} GROUP BY ?value ORDER BY ?prop\n"
   ]
  },
  {
   "cell_type": "markdown",
   "metadata": {},
   "source": [
    "\n",
    "\n",
    "## Find a painting\n",
    "Now we search for a van Gogh painting whose title contains _\"night\"_"
   ]
  },
  {
   "cell_type": "code",
   "execution_count": 4,
   "metadata": {},
   "outputs": [
    {
     "data": {
      "text/html": [
       "<div class=\"krn-spql\"><div class=\"magic\">Return format: JSON</div><div class=\"magic\">Display: table</div></div>"
      ],
      "text/plain": [
       "Return format: JSON\n",
       "Display: table\n"
      ]
     },
     "metadata": {},
     "output_type": "display_data"
    },
    {
     "data": {
      "text/html": [
       "<div class=\"krn-spql\"><table><tr class=hdr><th>picture</th>\n",
       "<th>name</th></tr><tr class=odd><td class=val><a href=\"http://dbpedia.org/resource/The_Starry_Night\" target=\"_other\">http://dbpedia.org/resource/The_Starry_Night</a></td>\n",
       "<td class=val>The Starry Night</td></tr><tr class=even><td class=val><a href=\"http://dbpedia.org/resource/The_Night_Café\" target=\"_other\">http://dbpedia.org/resource/The_Night_Café</a></td>\n",
       "<td class=val>The Night Café</td></tr><tr class=odd><td class=val><a href=\"http://dbpedia.org/resource/White_House_at_Night\" target=\"_other\">http://dbpedia.org/resource/White_House_at_Night</a></td>\n",
       "<td class=val>White House at Night</td></tr><tr class=even><td class=val><a href=\"http://dbpedia.org/resource/Cafe_Terrace_at_Night\" target=\"_other\">http://dbpedia.org/resource/Cafe_Terrace_at_Night</a></td>\n",
       "<td class=val>Cafe Terrace at Night</td></tr><tr class=odd><td class=val><a href=\"http://dbpedia.org/resource/Starry_Night_Over_the_Rhone\" target=\"_other\">http://dbpedia.org/resource/Starry_Night_Over_the_Rhone</a></td>\n",
       "<td class=val>Starry Night Over the Rhone</td></tr></table><div class=\"tinfo\">Total: 5, Shown: 5</div></div>"
      ]
     },
     "metadata": {},
     "output_type": "display_data"
    }
   ],
   "source": [
    "%format json\n",
    "%display table \n",
    "\n",
    "\n",
    "PREFIX rdfs: <http://www.w3.org/2000/01/rdf-schema#>\n",
    "PREFIX foaf:  <http://xmlns.com/foaf/0.1/>\n",
    "SELECT DISTINCT (?picture) ?name\n",
    "WHERE {\n",
    "        ?picture ?p1 dbr:Vincent_van_Gogh .\n",
    "        ?picture rdfs:label ?name .\n",
    "        FILTER regex(?name,\"night\", \"i\")\n",
    "        FILTER langMatches(lang(?name),\"en\")    \n",
    "}"
   ]
  },
  {
   "cell_type": "markdown",
   "metadata": {},
   "source": [
    "Just to show another possibility, we repeat the same query but indicating `raw` display format"
   ]
  },
  {
   "cell_type": "code",
   "execution_count": 5,
   "metadata": {},
   "outputs": [
    {
     "data": {
      "text/html": [
       "<div class=\"krn-spql\"><div class=\"magic\">Display: raw</div></div>"
      ],
      "text/plain": [
       "Display: raw\n"
      ]
     },
     "metadata": {},
     "output_type": "display_data"
    },
    {
     "data": {
      "text/plain": [
       "{u'head': {u'link': [], u'vars': [u'picture', u'name']},\n",
       " u'results': {u'bindings': [{u'name': {u'type': u'literal',\n",
       "                                       u'value': u'The Starry Night',\n",
       "                                       u'xml:lang': u'en'},\n",
       "                             u'picture': {u'type': u'uri',\n",
       "                                          u'value': u'http://dbpedia.org/resource/The_Starry_Night'}},\n",
       "                            {u'name': {u'type': u'literal',\n",
       "                                       u'value': u'The Night Caf\\xe9',\n",
       "                                       u'xml:lang': u'en'},\n",
       "                             u'picture': {u'type': u'uri',\n",
       "                                          u'value': u'http://dbpedia.org/resource/The_Night_Caf\\xe9'}},\n",
       "                            {u'name': {u'type': u'literal',\n",
       "                                       u'value': u'White House at Night',\n",
       "                                       u'xml:lang': u'en'},\n",
       "                             u'picture': {u'type': u'uri',\n",
       "                                          u'value': u'http://dbpedia.org/resource/White_House_at_Night'}},\n",
       "                            {u'name': {u'type': u'literal',\n",
       "                                       u'value': u'Cafe Terrace at Night',\n",
       "                                       u'xml:lang': u'en'},\n",
       "                             u'picture': {u'type': u'uri',\n",
       "                                          u'value': u'http://dbpedia.org/resource/Cafe_Terrace_at_Night'}},\n",
       "                            {u'name': {u'type': u'literal',\n",
       "                                       u'value': u'Starry Night Over the Rhone',\n",
       "                                       u'xml:lang': u'en'},\n",
       "                             u'picture': {u'type': u'uri',\n",
       "                                          u'value': u'http://dbpedia.org/resource/Starry_Night_Over_the_Rhone'}}],\n",
       "              u'distinct': False,\n",
       "              u'ordered': True}}"
      ]
     },
     "metadata": {},
     "output_type": "display_data"
    }
   ],
   "source": [
    "%display raw \n",
    "\n",
    "PREFIX rdfs: <http://www.w3.org/2000/01/rdf-schema#>\n",
    "PREFIX foaf:  <http://xmlns.com/foaf/0.1/>\n",
    "SELECT DISTINCT (?picture) ?name\n",
    "WHERE {\n",
    "        ?picture ?p1 dbr:Vincent_van_Gogh .\n",
    "        ?picture rdfs:label ?name .\n",
    "        FILTER regex(?name,\"night\", \"i\")\n",
    "        FILTER langMatches(lang(?name),\"en\")    \n",
    "}"
   ]
  },
  {
   "cell_type": "markdown",
   "metadata": {},
   "source": [
    "## Describe a painting\n",
    "\n",
    "Now we find out all that DBPedia knows about one of those paintings, _Starry Night Over the Rhone_"
   ]
  },
  {
   "cell_type": "code",
   "execution_count": 6,
   "metadata": {
    "scrolled": false
   },
   "outputs": [
    {
     "data": {
      "text/html": [
       "<div class=\"krn-spql\"><div class=\"magic\">Return format: N3</div><div class=\"magic\">Display: table</div><div class=\"magic\">Label preferred languages: [u'en']</div><div class=\"magic\">Result maximum size: unlimited</div></div>"
      ],
      "text/plain": [
       "Return format: N3\n",
       "Display: table\n",
       "Label preferred languages: [u'en']\n",
       "Result maximum size: unlimited\n"
      ]
     },
     "metadata": {},
     "output_type": "display_data"
    },
    {
     "data": {
      "text/html": [
       "<div class=\"krn-spql\"><table><tr class=hdr><th>subject</th>\n",
       "<th>predicate</th>\n",
       "<th>object</th></tr><tr class=odd><td class=val><a href=\"http://dbpedia.org/resource/Starry_Night_Over_the_Rhone\" target=\"_other\">http://dbpedia.org/resource/Starry_Night_Over_the_Rhone</a></td>\n",
       "<td class=val><a href=\"http://purl.org/voc/vrank#hasRank\" target=\"_other\">http://purl.org/voc/vrank#hasRank</a></td>\n",
       "<td class=val>fed935e2e67d74eeea29b14cef78dbbe7b1</td></tr><tr class=even><td class=val><a href=\"http://dbpedia.org/resource/Starry_Night_Over_the_Rhône\" target=\"_other\">http://dbpedia.org/resource/Starry_Night_Over_the_Rhône</a></td>\n",
       "<td class=val><a href=\"http://dbpedia.org/ontology/wikiPageRedirects\" target=\"_other\">http://dbpedia.org/ontology/wikiPageRedirects</a></td>\n",
       "<td class=val><a href=\"http://dbpedia.org/resource/Starry_Night_Over_the_Rhone\" target=\"_other\">http://dbpedia.org/resource/Starry_Night_Over_the_Rhone</a></td></tr><tr class=odd><td class=val><a href=\"http://dbpedia.org/resource/Starry_Night_Over_the_Rhone\" target=\"_other\">http://dbpedia.org/resource/Starry_Night_Over_the_Rhone</a></td>\n",
       "<td class=val><a href=\"http://www.w3.org/1999/02/22-rdf-syntax-ns#type\" target=\"_other\">http://www.w3.org/1999/02/22-rdf-syntax-ns#type</a></td>\n",
       "<td class=val><a href=\"http://dbpedia.org/class/yago/Object100002684\" target=\"_other\">http://dbpedia.org/class/yago/Object100002684</a></td></tr><tr class=even><td class=val><a href=\"http://dbpedia.org/resource/Starry_Night_Over_the_Rhone\" target=\"_other\">http://dbpedia.org/resource/Starry_Night_Over_the_Rhone</a></td>\n",
       "<td class=val><a href=\"http://www.w3.org/1999/02/22-rdf-syntax-ns#type\" target=\"_other\">http://www.w3.org/1999/02/22-rdf-syntax-ns#type</a></td>\n",
       "<td class=val><a href=\"http://dbpedia.org/class/yago/Genre103434943\" target=\"_other\">http://dbpedia.org/class/yago/Genre103434943</a></td></tr><tr class=odd><td class=val><a href=\"http://dbpedia.org/resource/Starry_Night_Over_the_Rhone\" target=\"_other\">http://dbpedia.org/resource/Starry_Night_Over_the_Rhone</a></td>\n",
       "<td class=val><a href=\"http://www.w3.org/1999/02/22-rdf-syntax-ns#type\" target=\"_other\">http://www.w3.org/1999/02/22-rdf-syntax-ns#type</a></td>\n",
       "<td class=val><a href=\"http://dbpedia.org/class/yago/PhysicalEntity100001930\" target=\"_other\">http://dbpedia.org/class/yago/PhysicalEntity100001930</a></td></tr><tr class=even><td class=val><a href=\"http://dbpedia.org/resource/Starry_Night_Over_the_Rhone\" target=\"_other\">http://dbpedia.org/resource/Starry_Night_Over_the_Rhone</a></td>\n",
       "<td class=val><a href=\"http://www.w3.org/2000/01/rdf-schema#comment\" target=\"_other\">http://www.w3.org/2000/01/rdf-schema#comment</a></td>\n",
       "<td class=val>Starry Night Over the Rhone (September 1888) is one of Vincent van Gogh's paintings of Arles at night time. It was painted at a spot on the bank of the Rhone River that was only a one or two-minute walk from the Yellow House on the Place Lamartine which Van Gogh was renting at the time. The night sky and the effects of light at night provided the subject for some of his more famous paintings, including Cafe Terrace at Night (painted earlier the same month) and the later canvas from Saint-Rémy, The Starry Night.</td></tr><tr class=odd><td class=val><a href=\"http://dbpedia.org/resource/Starry_Night_Over_the_Rhone\" target=\"_other\">http://dbpedia.org/resource/Starry_Night_Over_the_Rhone</a></td>\n",
       "<td class=val><a href=\"http://dbpedia.org/property/artist\" target=\"_other\">http://dbpedia.org/property/artist</a></td>\n",
       "<td class=val><a href=\"http://dbpedia.org/resource/Vincent_van_Gogh\" target=\"_other\">http://dbpedia.org/resource/Vincent_van_Gogh</a></td></tr><tr class=even><td class=val><a href=\"http://dbpedia.org/resource/Starry_Night_Over_the_Rhone\" target=\"_other\">http://dbpedia.org/resource/Starry_Night_Over_the_Rhone</a></td>\n",
       "<td class=val><a href=\"http://dbpedia.org/ontology/thumbnail\" target=\"_other\">http://dbpedia.org/ontology/thumbnail</a></td>\n",
       "<td class=val><a href=\"http://commons.wikimedia.org/wiki/Special:FilePath/Starry_Night_Over_the_Rhone.jpg?width=300\" target=\"_other\">http://commons.wikimedia.org/wiki/Special:FilePath/Starry_Night_Over_the_Rhone.jpg?width=300</a></td></tr><tr class=odd><td class=val><a href=\"http://dbpedia.org/resource/Starry_Night_over_the_Rhone\" target=\"_other\">http://dbpedia.org/resource/Starry_Night_over_the_Rhone</a></td>\n",
       "<td class=val><a href=\"http://dbpedia.org/ontology/wikiPageRedirects\" target=\"_other\">http://dbpedia.org/ontology/wikiPageRedirects</a></td>\n",
       "<td class=val><a href=\"http://dbpedia.org/resource/Starry_Night_Over_the_Rhone\" target=\"_other\">http://dbpedia.org/resource/Starry_Night_Over_the_Rhone</a></td></tr><tr class=even><td class=val><a href=\"http://dbpedia.org/resource/Starry_Night_Over_the_Rhone\" target=\"_other\">http://dbpedia.org/resource/Starry_Night_Over_the_Rhone</a></td>\n",
       "<td class=val><a href=\"http://www.w3.org/1999/02/22-rdf-syntax-ns#type\" target=\"_other\">http://www.w3.org/1999/02/22-rdf-syntax-ns#type</a></td>\n",
       "<td class=val><a href=\"http://dbpedia.org/class/yago/Creation103129123\" target=\"_other\">http://dbpedia.org/class/yago/Creation103129123</a></td></tr><tr class=odd><td class=val><a href=\"http://dbpedia.org/resource/Starry_Night_Over_the_Rhone\" target=\"_other\">http://dbpedia.org/resource/Starry_Night_Over_the_Rhone</a></td>\n",
       "<td class=val><a href=\"http://purl.org/dc/terms/subject\" target=\"_other\">http://purl.org/dc/terms/subject</a></td>\n",
       "<td class=val><a href=\"http://dbpedia.org/resource/Category:Vincent_van_Gogh_paintings_of_Arles\" target=\"_other\">http://dbpedia.org/resource/Category:Vincent_van_Gogh_paintings_of_Arles</a></td></tr><tr class=even><td class=val><a href=\"http://dbpedia.org/resource/Starry_Night_(disambiguation)\" target=\"_other\">http://dbpedia.org/resource/Starry_Night_(disambiguation)</a></td>\n",
       "<td class=val><a href=\"http://dbpedia.org/ontology/wikiPageDisambiguates\" target=\"_other\">http://dbpedia.org/ontology/wikiPageDisambiguates</a></td>\n",
       "<td class=val><a href=\"http://dbpedia.org/resource/Starry_Night_Over_the_Rhone\" target=\"_other\">http://dbpedia.org/resource/Starry_Night_Over_the_Rhone</a></td></tr><tr class=odd><td class=val><a href=\"http://dbpedia.org/resource/Starry_Night_Over_the_Rhone\" target=\"_other\">http://dbpedia.org/resource/Starry_Night_Over_the_Rhone</a></td>\n",
       "<td class=val><a href=\"http://xmlns.com/foaf/0.1/depiction\" target=\"_other\">http://xmlns.com/foaf/0.1/depiction</a></td>\n",
       "<td class=val><a href=\"http://commons.wikimedia.org/wiki/Special:FilePath/Starry_Night_Over_the_Rhone.jpg\" target=\"_other\">http://commons.wikimedia.org/wiki/Special:FilePath/Starry_Night_Over_the_Rhone.jpg</a></td></tr><tr class=even><td class=val><a href=\"http://dbpedia.org/resource/Starry_Night_Over_the_Rhone\" target=\"_other\">http://dbpedia.org/resource/Starry_Night_Over_the_Rhone</a></td>\n",
       "<td class=val><a href=\"http://www.w3.org/1999/02/22-rdf-syntax-ns#type\" target=\"_other\">http://www.w3.org/1999/02/22-rdf-syntax-ns#type</a></td>\n",
       "<td class=val><a href=\"http://dbpedia.org/class/yago/Wikicat1888Paintings\" target=\"_other\">http://dbpedia.org/class/yago/Wikicat1888Paintings</a></td></tr><tr class=odd><td class=val><a href=\"http://dbpedia.org/resource/Starry_Night_Over_the_Rhone\" target=\"_other\">http://dbpedia.org/resource/Starry_Night_Over_the_Rhone</a></td>\n",
       "<td class=val><a href=\"http://www.w3.org/1999/02/22-rdf-syntax-ns#type\" target=\"_other\">http://www.w3.org/1999/02/22-rdf-syntax-ns#type</a></td>\n",
       "<td class=val><a href=\"http://www.wikidata.org/entity/Q386724\" target=\"_other\">http://www.wikidata.org/entity/Q386724</a></td></tr><tr class=even><td class=val><a href=\"http://dbpedia.org/resource/Starry_Night_Over_the_Rhone\" target=\"_other\">http://dbpedia.org/resource/Starry_Night_Over_the_Rhone</a></td>\n",
       "<td class=val><a href=\"http://www.w3.org/1999/02/22-rdf-syntax-ns#type\" target=\"_other\">http://www.w3.org/1999/02/22-rdf-syntax-ns#type</a></td>\n",
       "<td class=val><a href=\"http://dbpedia.org/class/yago/WikicatLandscapePaintings\" target=\"_other\">http://dbpedia.org/class/yago/WikicatLandscapePaintings</a></td></tr><tr class=odd><td class=val><a href=\"http://dbpedia.org/resource/Starry_Night_Over_the_Rhone\" target=\"_other\">http://dbpedia.org/resource/Starry_Night_Over_the_Rhone</a></td>\n",
       "<td class=val><a href=\"http://www.w3.org/1999/02/22-rdf-syntax-ns#type\" target=\"_other\">http://www.w3.org/1999/02/22-rdf-syntax-ns#type</a></td>\n",
       "<td class=val><a href=\"http://dbpedia.org/class/yago/Wikicat19th-centuryPaintings\" target=\"_other\">http://dbpedia.org/class/yago/Wikicat19th-centuryPaintings</a></td></tr><tr class=even><td class=val><a href=\"http://dbpedia.org/resource/Starry_Night_Over_the_Rhone\" target=\"_other\">http://dbpedia.org/resource/Starry_Night_Over_the_Rhone</a></td>\n",
       "<td class=val><a href=\"http://www.w3.org/1999/02/22-rdf-syntax-ns#type\" target=\"_other\">http://www.w3.org/1999/02/22-rdf-syntax-ns#type</a></td>\n",
       "<td class=val><a href=\"http://dbpedia.org/class/yago/WikicatPaintingsByVincentVanGogh\" target=\"_other\">http://dbpedia.org/class/yago/WikicatPaintingsByVincentVanGogh</a></td></tr><tr class=odd><td class=val><a href=\"http://dbpedia.org/resource/Starry_Night_Over_the_Rhone\" target=\"_other\">http://dbpedia.org/resource/Starry_Night_Over_the_Rhone</a></td>\n",
       "<td class=val><a href=\"http://www.w3.org/1999/02/22-rdf-syntax-ns#type\" target=\"_other\">http://www.w3.org/1999/02/22-rdf-syntax-ns#type</a></td>\n",
       "<td class=val><a href=\"http://dbpedia.org/class/yago/Painting103876519\" target=\"_other\">http://dbpedia.org/class/yago/Painting103876519</a></td></tr><tr class=even><td class=val><a href=\"http://dbpedia.org/resource/Starry_Night_Over_the_Rhone\" target=\"_other\">http://dbpedia.org/resource/Starry_Night_Over_the_Rhone</a></td>\n",
       "<td class=val><a href=\"http://www.w3.org/1999/02/22-rdf-syntax-ns#type\" target=\"_other\">http://www.w3.org/1999/02/22-rdf-syntax-ns#type</a></td>\n",
       "<td class=val><a href=\"http://www.w3.org/2003/01/geo/wgs84_pos#SpatialThing\" target=\"_other\">http://www.w3.org/2003/01/geo/wgs84_pos#SpatialThing</a></td></tr><tr class=odd><td class=val><a href=\"http://dbpedia.org/resource/Starry_Night_Over_the_Rhone\" target=\"_other\">http://dbpedia.org/resource/Starry_Night_Over_the_Rhone</a></td>\n",
       "<td class=val><a href=\"http://dbpedia.org/ontology/museum\" target=\"_other\">http://dbpedia.org/ontology/museum</a></td>\n",
       "<td class=val><a href=\"http://dbpedia.org/resource/Musée_d'Orsay\" target=\"_other\">http://dbpedia.org/resource/Musée_d'Orsay</a></td></tr><tr class=even><td class=val><a href=\"http://dbpedia.org/resource/Starry_Night_Over_the_Rhone\" target=\"_other\">http://dbpedia.org/resource/Starry_Night_Over_the_Rhone</a></td>\n",
       "<td class=val><a href=\"http://dbpedia.org/property/title\" target=\"_other\">http://dbpedia.org/property/title</a></td>\n",
       "<td class=val>Starry Night over the Rhone</td></tr><tr class=odd><td class=val><a href=\"http://dbpedia.org/resource/Starry_Night_Over_the_Rhone\" target=\"_other\">http://dbpedia.org/resource/Starry_Night_Over_the_Rhone</a></td>\n",
       "<td class=val><a href=\"http://www.w3.org/1999/02/22-rdf-syntax-ns#type\" target=\"_other\">http://www.w3.org/1999/02/22-rdf-syntax-ns#type</a></td>\n",
       "<td class=val><a href=\"http://schema.org/CreativeWork\" target=\"_other\">http://schema.org/CreativeWork</a></td></tr><tr class=even><td class=val><a href=\"http://dbpedia.org/resource/Starry_Night_Over_the_Rhone\" target=\"_other\">http://dbpedia.org/resource/Starry_Night_Over_the_Rhone</a></td>\n",
       "<td class=val><a href=\"http://xmlns.com/foaf/0.1/name\" target=\"_other\">http://xmlns.com/foaf/0.1/name</a></td>\n",
       "<td class=val>Starry Night over the Rhone</td></tr><tr class=odd><td class=val><a href=\"http://dbpedia.org/resource/Starry_Night_Over_the_Rhone\" target=\"_other\">http://dbpedia.org/resource/Starry_Night_Over_the_Rhone</a></td>\n",
       "<td class=val><a href=\"http://dbpedia.org/ontology/author\" target=\"_other\">http://dbpedia.org/ontology/author</a></td>\n",
       "<td class=val><a href=\"http://dbpedia.org/resource/Vincent_van_Gogh\" target=\"_other\">http://dbpedia.org/resource/Vincent_van_Gogh</a></td></tr><tr class=even><td class=val><a href=\"http://dbpedia.org/resource/Starry_Night_Over_the_Rhone\" target=\"_other\">http://dbpedia.org/resource/Starry_Night_Over_the_Rhone</a></td>\n",
       "<td class=val><a href=\"http://www.w3.org/1999/02/22-rdf-syntax-ns#type\" target=\"_other\">http://www.w3.org/1999/02/22-rdf-syntax-ns#type</a></td>\n",
       "<td class=val><a href=\"http://dbpedia.org/class/yago/Art102743547\" target=\"_other\">http://dbpedia.org/class/yago/Art102743547</a></td></tr><tr class=odd><td class=val><a href=\"http://en.wikipedia.org/wiki/Starry_Night_Over_the_Rhone\" target=\"_other\">http://en.wikipedia.org/wiki/Starry_Night_Over_the_Rhone</a></td>\n",
       "<td class=val><a href=\"http://xmlns.com/foaf/0.1/primaryTopic\" target=\"_other\">http://xmlns.com/foaf/0.1/primaryTopic</a></td>\n",
       "<td class=val><a href=\"http://dbpedia.org/resource/Starry_Night_Over_the_Rhone\" target=\"_other\">http://dbpedia.org/resource/Starry_Night_Over_the_Rhone</a></td></tr><tr class=even><td class=val><a href=\"http://dbpedia.org/resource/Starry_Night_Over_the_Rhone\" target=\"_other\">http://dbpedia.org/resource/Starry_Night_Over_the_Rhone</a></td>\n",
       "<td class=val><a href=\"http://dbpedia.org/property/museum\" target=\"_other\">http://dbpedia.org/property/museum</a></td>\n",
       "<td class=val><a href=\"http://dbpedia.org/resource/Musée_d'Orsay\" target=\"_other\">http://dbpedia.org/resource/Musée_d'Orsay</a></td></tr><tr class=odd><td class=val><a href=\"http://dbpedia.org/resource/Starry_Night_Over_the_Rhone\" target=\"_other\">http://dbpedia.org/resource/Starry_Night_Over_the_Rhone</a></td>\n",
       "<td class=val><a href=\"http://www.w3.org/1999/02/22-rdf-syntax-ns#type\" target=\"_other\">http://www.w3.org/1999/02/22-rdf-syntax-ns#type</a></td>\n",
       "<td class=val><a href=\"http://www.w3.org/2002/07/owl#Thing\" target=\"_other\">http://www.w3.org/2002/07/owl#Thing</a></td></tr><tr class=even><td class=val><a href=\"http://dbpedia.org/resource/Starry_Night_Over_the_Rhone\" target=\"_other\">http://dbpedia.org/resource/Starry_Night_Over_the_Rhone</a></td>\n",
       "<td class=val><a href=\"http://purl.org/dc/terms/subject\" target=\"_other\">http://purl.org/dc/terms/subject</a></td>\n",
       "<td class=val><a href=\"http://dbpedia.org/resource/Category:1888_paintings\" target=\"_other\">http://dbpedia.org/resource/Category:1888_paintings</a></td></tr><tr class=odd><td class=val><a href=\"http://dbpedia.org/resource/Starry_Night_Over_the_Rhone\" target=\"_other\">http://dbpedia.org/resource/Starry_Night_Over_the_Rhone</a></td>\n",
       "<td class=val><a href=\"http://www.w3.org/1999/02/22-rdf-syntax-ns#type\" target=\"_other\">http://www.w3.org/1999/02/22-rdf-syntax-ns#type</a></td>\n",
       "<td class=val><a href=\"http://dbpedia.org/ontology/Work\" target=\"_other\">http://dbpedia.org/ontology/Work</a></td></tr><tr class=even><td class=val><a href=\"http://dbpedia.org/resource/Starry_Night_Over_the_Rhone\" target=\"_other\">http://dbpedia.org/resource/Starry_Night_Over_the_Rhone</a></td>\n",
       "<td class=val><a href=\"http://www.w3.org/1999/02/22-rdf-syntax-ns#type\" target=\"_other\">http://www.w3.org/1999/02/22-rdf-syntax-ns#type</a></td>\n",
       "<td class=val><a href=\"http://dbpedia.org/class/yago/Whole100003553\" target=\"_other\">http://dbpedia.org/class/yago/Whole100003553</a></td></tr><tr class=odd><td class=val><a href=\"http://dbpedia.org/resource/Starry_Night_Over_the_Rhone\" target=\"_other\">http://dbpedia.org/resource/Starry_Night_Over_the_Rhone</a></td>\n",
       "<td class=val><a href=\"http://www.w3.org/ns/prov#wasDerivedFrom\" target=\"_other\">http://www.w3.org/ns/prov#wasDerivedFrom</a></td>\n",
       "<td class=val><a href=\"http://en.wikipedia.org/wiki/Starry_Night_Over_the_Rhone?oldid=703644953\" target=\"_other\">http://en.wikipedia.org/wiki/Starry_Night_Over_the_Rhone?oldid=703644953</a></td></tr><tr class=even><td class=val><a href=\"http://dbpedia.org/resource/Starry_Night_Over_the_Rhone\" target=\"_other\">http://dbpedia.org/resource/Starry_Night_Over_the_Rhone</a></td>\n",
       "<td class=val><a href=\"http://www.w3.org/1999/02/22-rdf-syntax-ns#type\" target=\"_other\">http://www.w3.org/1999/02/22-rdf-syntax-ns#type</a></td>\n",
       "<td class=val><a href=\"http://dbpedia.org/class/yago/GraphicArt103453809\" target=\"_other\">http://dbpedia.org/class/yago/GraphicArt103453809</a></td></tr><tr class=odd><td class=val><a href=\"http://dbpedia.org/resource/Starry_Night_Over_the_Rhone\" target=\"_other\">http://dbpedia.org/resource/Starry_Night_Over_the_Rhone</a></td>\n",
       "<td class=val><a href=\"http://www.w3.org/1999/02/22-rdf-syntax-ns#type\" target=\"_other\">http://www.w3.org/1999/02/22-rdf-syntax-ns#type</a></td>\n",
       "<td class=val><a href=\"http://dbpedia.org/class/yago/Landscape103640011\" target=\"_other\">http://dbpedia.org/class/yago/Landscape103640011</a></td></tr><tr class=even><td class=val><a href=\"http://dbpedia.org/resource/Starry_Night_Over_the_Rhone\" target=\"_other\">http://dbpedia.org/resource/Starry_Night_Over_the_Rhone</a></td>\n",
       "<td class=val><a href=\"http://www.w3.org/1999/02/22-rdf-syntax-ns#type\" target=\"_other\">http://www.w3.org/1999/02/22-rdf-syntax-ns#type</a></td>\n",
       "<td class=val><a href=\"http://dbpedia.org/class/yago/WikicatVincentVanGoghPaintingsOfArles\" target=\"_other\">http://dbpedia.org/class/yago/WikicatVincentVanGoghPaintingsOfArles</a></td></tr><tr class=odd><td class=val><a href=\"http://dbpedia.org/resource/Starry_Night_Over_the_Rhone\" target=\"_other\">http://dbpedia.org/resource/Starry_Night_Over_the_Rhone</a></td>\n",
       "<td class=val><a href=\"http://www.w3.org/1999/02/22-rdf-syntax-ns#type\" target=\"_other\">http://www.w3.org/1999/02/22-rdf-syntax-ns#type</a></td>\n",
       "<td class=val><a href=\"http://dbpedia.org/class/yago/Artifact100021939\" target=\"_other\">http://dbpedia.org/class/yago/Artifact100021939</a></td></tr><tr class=even><td class=val><a href=\"http://dbpedia.org/resource/Starry_Night_Over_the_Rhone\" target=\"_other\">http://dbpedia.org/resource/Starry_Night_Over_the_Rhone</a></td>\n",
       "<td class=val><a href=\"http://www.w3.org/2000/01/rdf-schema#label\" target=\"_other\">http://www.w3.org/2000/01/rdf-schema#label</a></td>\n",
       "<td class=val>Starry Night Over the Rhone</td></tr><tr class=odd><td class=val><a href=\"http://dbpedia.org/resource/Starry_Night_Over_the_Rhone\" target=\"_other\">http://dbpedia.org/resource/Starry_Night_Over_the_Rhone</a></td>\n",
       "<td class=val><a href=\"http://purl.org/dc/terms/subject\" target=\"_other\">http://purl.org/dc/terms/subject</a></td>\n",
       "<td class=val><a href=\"http://dbpedia.org/resource/Category:Paintings_by_Vincent_van_Gogh\" target=\"_other\">http://dbpedia.org/resource/Category:Paintings_by_Vincent_van_Gogh</a></td></tr><tr class=even><td class=val><a href=\"http://dbpedia.org/resource/Starry_Night_Over_the_Rhone\" target=\"_other\">http://dbpedia.org/resource/Starry_Night_Over_the_Rhone</a></td>\n",
       "<td class=val><a href=\"http://dbpedia.org/ontology/abstract\" target=\"_other\">http://dbpedia.org/ontology/abstract</a></td>\n",
       "<td class=val>Starry Night Over the Rhone (September 1888) is one of Vincent van Gogh's paintings of Arles at night time. It was painted at a spot on the bank of the Rhone River that was only a one or two-minute walk from the Yellow House on the Place Lamartine which Van Gogh was renting at the time. The night sky and the effects of light at night provided the subject for some of his more famous paintings, including Cafe Terrace at Night (painted earlier the same month) and the later canvas from Saint-Rémy, The Starry Night. A sketch of the painting is included in a letter van Gogh sent to his friend Eugène Boch on October 2, 1888. The painting was first exhibited in 1889 at the annual exhibition of the Société des Artistes Indépendants in Paris, together with the Irises. The latter was added by Theo, while Vincent had proposed one of his paintings from the public gardens in Arles, most probably the version now in the Phillips Collection.</td></tr><tr class=odd><td class=val><a href=\"http://dbpedia.org/resource/Starry_Night_Over_the_Rhone\" target=\"_other\">http://dbpedia.org/resource/Starry_Night_Over_the_Rhone</a></td>\n",
       "<td class=val><a href=\"http://purl.org/dc/terms/subject\" target=\"_other\">http://purl.org/dc/terms/subject</a></td>\n",
       "<td class=val><a href=\"http://dbpedia.org/resource/Category:Collections_of_the_Musée_d'Orsay\" target=\"_other\">http://dbpedia.org/resource/Category:Collections_of_the_Musée_d'Orsay</a></td></tr><tr class=even><td class=val><a href=\"http://dbpedia.org/resource/Starry_Night_Over_the_Rhone\" target=\"_other\">http://dbpedia.org/resource/Starry_Night_Over_the_Rhone</a></td>\n",
       "<td class=val><a href=\"http://www.w3.org/1999/02/22-rdf-syntax-ns#type\" target=\"_other\">http://www.w3.org/1999/02/22-rdf-syntax-ns#type</a></td>\n",
       "<td class=val><a href=\"http://dbpedia.org/ontology/Artwork\" target=\"_other\">http://dbpedia.org/ontology/Artwork</a></td></tr><tr class=odd><td class=val><a href=\"http://dbpedia.org/resource/Starry_Night_Over_the_Rhone\" target=\"_other\">http://dbpedia.org/resource/Starry_Night_Over_the_Rhone</a></td>\n",
       "<td class=val><a href=\"http://xmlns.com/foaf/0.1/isPrimaryTopicOf\" target=\"_other\">http://xmlns.com/foaf/0.1/isPrimaryTopicOf</a></td>\n",
       "<td class=val><a href=\"http://en.wikipedia.org/wiki/Starry_Night_Over_the_Rhone\" target=\"_other\">http://en.wikipedia.org/wiki/Starry_Night_Over_the_Rhone</a></td></tr></table><div class=\"tinfo\">Shown: all, Total rows: 73</div></div>"
      ]
     },
     "metadata": {},
     "output_type": "display_data"
    }
   ],
   "source": [
    "%format n3\n",
    "%display table\n",
    "%lang en\n",
    "%show all\n",
    "\n",
    "PREFIX rdfs: <http://www.w3.org/2000/01/rdf-schema#>\n",
    "PREFIX foaf:  <http://xmlns.com/foaf/0.1/>\n",
    "CONSTRUCT  { ?s1 ?p1 dbr:Starry_Night_Over_the_Rhone .\n",
    "             dbr:Starry_Night_Over_the_Rhone ?p2 ?o1 .\n",
    "           }\n",
    "WHERE {\n",
    "    { ?s1 ?p1 dbr:Starry_Night_Over_the_Rhone }\n",
    "    UNION\n",
    "    { dbr:Starry_Night_Over_the_Rhone ?p2 ?o1 }\n",
    "    \n",
    "    FILTER ( ?p1 != owl:sameAs && ?p2 != owl:sameAs)\n",
    "}\n"
   ]
  },
  {
   "cell_type": "markdown",
   "metadata": {},
   "source": [
    "Similar data could be obtained by asking the endpoint to `DESCRIBE` the resource. Let's do this, but for a twist let's ask the kernel to draw a graph with the results (for this to work, [Graphviz](http://www.graphviz.org/) should be installed in the system).\n",
    "\n",
    "We generate a PNG here. Note that `svg` is a much better format than `png`, if the browser supports it (better quality, and hyperlinked nodes)."
   ]
  },
  {
   "cell_type": "code",
   "execution_count": 7,
   "metadata": {},
   "outputs": [
    {
     "data": {
      "text/html": [
       "<div class=\"krn-spql\"><div class=\"magic\">Return format: N3</div><div class=\"magic\">Display: png</div><div class=\"magic\">Label preferred languages: [u'en']</div></div>"
      ],
      "text/plain": [
       "Return format: N3\n",
       "Display: png\n",
       "Label preferred languages: [u'en']\n"
      ]
     },
     "metadata": {},
     "output_type": "display_data"
    },
    {
     "data": {
      "text/html": [
       "<div class=\"krn-spql\"><div class=\"krn-error\"><span class=\"title\">Error:</span> Response processing error: Exception while drawing graph: OSError(2, 'No such file or directory')</div></div>"
      ],
      "text/plain": [
       "Error: Response processing error: Exception while drawing graph: OSError(2, 'No such file or directory')"
      ]
     },
     "metadata": {},
     "output_type": "display_data"
    }
   ],
   "source": [
    "%format n3\n",
    "%display diagram png\n",
    "%lang en\n",
    "\n",
    "PREFIX rdfs: <http://www.w3.org/2000/01/rdf-schema#>\n",
    "PREFIX foaf:  <http://xmlns.com/foaf/0.1/>\n",
    "DESCRIBE dbr:Starry_Night_Over_the_Rhone"
   ]
  },
  {
   "cell_type": "markdown",
   "metadata": {},
   "source": [
    "## Locate paintings\n",
    "\n",
    "Finally, to print out a slightly more complex graph, we will construct one with all of van Gogh's paintings, together with their location and the country they are in.\n",
    "\n",
    "This one we render as SVG; this has the said advantage of better quality (being a vector format). Plus nodes and edges can contain hyperlinks, so when they are URIs they point to the full URL (note that, unless the `withliterals` option is used, **all** represented nodes will be URIs)"
   ]
  },
  {
   "cell_type": "code",
   "execution_count": null,
   "metadata": {
    "collapsed": true
   },
   "outputs": [],
   "source": [
    "%format n3\n",
    "%display diagram svg\n",
    "\n",
    "PREFIX wd: <http://www.wikidata.org/entity/>\n",
    "CONSTRUCT  { ?painting dbp:museum ?museum .\n",
    "             ?painting dct:subject ?subject .\n",
    "             ?museum dbo:location ?location .\n",
    "             ?location dbo:country ?country .\n",
    "           }\n",
    "WHERE {\n",
    "    ?painting dbp:artist dbr:Vincent_van_Gogh .\n",
    "    ?painting a wd:Q386724 .\n",
    "    ?painting a dbo:Artwork .\n",
    "    ?painting dbp:museum ?museum .\n",
    "    ?museum dbo:location ?location .\n",
    "    ?location dbo:country ?country .\n",
    "}"
   ]
  },
  {
   "cell_type": "markdown",
   "metadata": {},
   "source": [
    "<div style=\"border-top: 1px gray solid; font-family: Cursive, sans-serif;\">Version: 1.1 (2016-08-10)<br/>\n",
    "Author: Paulo Villegas</div>"
   ]
  }
 ],
 "metadata": {
  "kernelspec": {
   "display_name": "SPARQL",
   "language": "",
   "name": "sparql"
  },
  "language_info": {
   "codemirror_mode": {
    "name": "sparql"
   },
   "mimetype": "application/sparql-query",
   "name": "sparql",
   "pygments_lexer": "sparql-nb"
  }
 },
 "nbformat": 4,
 "nbformat_minor": 1
}
