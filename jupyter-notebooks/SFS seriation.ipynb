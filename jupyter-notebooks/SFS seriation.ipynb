{
 "cells": [
  {
   "cell_type": "code",
   "execution_count": 3,
   "metadata": {},
   "outputs": [
    {
     "name": "stderr",
     "output_type": "stream",
     "text": [
      "Downloading GitHub repo seminaro/SFS@master\n",
      "from URL https://api.github.com/repos/seminaro/SFS/zipball/master\n",
      "Installing SFS\n",
      "Installing RcppArmadillo\n",
      "'/usr/lib/R/bin/R' --no-site-file --no-environ --no-save --no-restore --quiet  \\\n",
      "  CMD INSTALL '/tmp/RtmpLWH5DJ/devtools14e7484a9ad3/RcppArmadillo'  \\\n",
      "  --library='/home/optimization/R/x86_64-pc-linux-gnu-library/3.2'  \\\n",
      "  --install-tests \n",
      "\n",
      "'/usr/lib/R/bin/R' --no-site-file --no-environ --no-save --no-restore --quiet  \\\n",
      "  CMD INSTALL '/tmp/RtmpLWH5DJ/devtools14e7141a0afe/seminaro-SFS-cb8755a'  \\\n",
      "  --library='/home/optimization/R/x86_64-pc-linux-gnu-library/3.2'  \\\n",
      "  --install-tests \n",
      "\n"
     ]
    }
   ],
   "source": [
    "devtools::install_github('seminaro/SFS')"
   ]
  },
  {
   "cell_type": "code",
   "execution_count": 4,
   "metadata": {
    "collapsed": true
   },
   "outputs": [],
   "source": [
    "library(SFS)"
   ]
  },
  {
   "cell_type": "code",
   "execution_count": 5,
   "metadata": {},
   "outputs": [
    {
     "name": "stdout",
     "output_type": "stream",
     "text": [
      "the matrix is Robinsonian\n"
     ]
    },
    {
     "data": {
      "text/html": [
       "<table>\n",
       "<tbody>\n",
       "\t<tr><td>1 </td><td>3 </td><td>14</td><td>13</td><td>11</td><td>8 </td><td>7 </td><td>19</td><td>5 </td><td>9 </td><td>17</td><td>2 </td><td>4 </td><td>15</td><td>18</td><td>12</td><td>6 </td><td>10</td><td>16</td></tr>\n",
       "</tbody>\n",
       "</table>\n"
      ],
      "text/latex": [
       "\\begin{tabular}{lllllllllllllllllll}\n",
       "\t 1  & 3  & 14 & 13 & 11 & 8  & 7  & 19 & 5  & 9  & 17 & 2  & 4  & 15 & 18 & 12 & 6  & 10 & 16\\\\\n",
       "\\end{tabular}\n"
      ],
      "text/markdown": [
       "\n",
       "| 1  | 3  | 14 | 13 | 11 | 8  | 7  | 19 | 5  | 9  | 17 | 2  | 4  | 15 | 18 | 12 | 6  | 10 | 16 | \n",
       "\n",
       "\n"
      ],
      "text/plain": [
       "     [,1] [,2] [,3] [,4] [,5] [,6] [,7] [,8] [,9] [,10] [,11] [,12] [,13] [,14]\n",
       "[1,] 1    3    14   13   11   8    7    19   5    9     17    2     4     15   \n",
       "     [,15] [,16] [,17] [,18] [,19]\n",
       "[1,] 18    12    6     10    16   "
      ]
     },
     "metadata": {},
     "output_type": "display_data"
    }
   ],
   "source": [
    "mtxt <- c(\"11 2 9 0 5 0 5 5 2 0 5 0 5 6 0 0 2 0 5\",\n",
    "         \"2 11 2 0 9 0 8 5 10 0 5 0 5 2 0 0 10 0 8\",\n",
    "         \"9 2 11 0 5 0 5 5 2 0 5 0 5 10 0 0 2 0 5\",\n",
    "         \"0 0 0 11 0 3 0 0 0 3 0 3 0 0 10 3 0 9 0\",\n",
    "         \"5 9 5 0 11 0 8 7 9 0 7 0 7 5 0 0 9 0 10\",\n",
    "         \"0 0 0 3 0 11 0 0 0 10 0 6 0 0 5 8 0 5 0\",\n",
    "         \"5 8 5 0 8 0 11 7 8 0 7 0 7 5 0 0 8 0 9\",\n",
    "         \"5 5 5 0 7 0 7 11 6 0 10 0 8 7 0 0 6 0 7\",\n",
    "         \"2 10 2 0 9 0 8 6 11 0 6 0 5 2 0 0 10 0 8\",\n",
    "         \"0 0 0 3 0 10 0 0 0 11 0 6 0 0 4 9 0 5 0\",\n",
    "         \"5 5 5 0 7 0 7 10 6 0 11 0 9 7 0 0 6 0 7\",\n",
    "         \"0 0 0 3 0 6 0 0 0 6 0 11 0 0 9 6 0 10 0\",\n",
    "         \"5 5 5 0 7 0 7 8 5 0 9 0 11 7 0 0 5 0 7\",\n",
    "         \"6 2 10 0 5 0 5 7 2 0 7 0 7 11 0 0 2 0 5\",\n",
    "         \"0 0 0 10 0 5 0 0 0 4 0 9 0 0 11 4 0 10 0\",\n",
    "         \"0 0 0 3 0 8 0 0 0 9 0 6 0 0 4 11 0 4 0\",\n",
    "         \"2 10 2 0 9 0 8 6 10 0 6 0 5 2 0 0 11 0 8\",\n",
    "         \"0 0 0 9 0 5 0 0 0 5 0 10 0 0 10 4 0 11 0\",\n",
    "         \"5 8 5 0 10 0 9 7 8 0 7 0 7 5 0 0 8 0 11\")\n",
    "  \tM <- as.matrix(read.table(textConnection(mtxt)))\n",
    "  \tA <- SFS::read(M)\n",
    "SFS::sfs(A, Robinsonian = TRUE)"
   ]
  },
  {
   "cell_type": "code",
   "execution_count": 8,
   "metadata": {},
   "outputs": [
    {
     "name": "stderr",
     "output_type": "stream",
     "text": [
      "Installing package into ‘/home/optimization/R/x86_64-pc-linux-gnu-library/3.2’\n",
      "(as ‘lib’ is unspecified)\n",
      "also installing the dependencies ‘RColorBrewer’, ‘dichromat’, ‘munsell’, ‘labeling’, ‘assertthat’, ‘modeltools’, ‘DEoptimR’, ‘iterators’, ‘gtable’, ‘plyr’, ‘reshape2’, ‘scales’, ‘tibble’, ‘lazyeval’, ‘mclust’, ‘flexmix’, ‘prabclus’, ‘diptest’, ‘mvtnorm’, ‘robustbase’, ‘kernlab’, ‘trimcluster’, ‘gridExtra’, ‘bitops’, ‘foreach’, ‘ggplot2’, ‘fpc’, ‘viridis’, ‘gtools’, ‘gdata’, ‘caTools’, ‘TSP’, ‘qap’, ‘gclus’, ‘dendextend’, ‘colorspace’, ‘gplots’, ‘registry’\n",
      "\n"
     ]
    },
    {
     "name": "stdout",
     "output_type": "stream",
     "text": [
      "\n",
      "The downloaded source packages are in\n",
      "\t‘/tmp/RtmpLWH5DJ/downloaded_packages’\n"
     ]
    }
   ],
   "source": [
    "install.packages(\"seriation\")"
   ]
  },
  {
   "cell_type": "code",
   "execution_count": 9,
   "metadata": {},
   "outputs": [
    {
     "name": "stderr",
     "output_type": "stream",
     "text": [
      "Warning message:\n",
      "“replacing previous import by ‘magrittr::%>%’ when loading ‘dendextend’”"
     ]
    },
    {
     "data": {
      "text/html": [
       "<table>\n",
       "<tbody>\n",
       "\t<tr><td>98 </td><td>56 </td><td>68 </td><td>36 </td><td>26 </td><td>23 </td><td>14 </td><td>138</td><td>147</td><td>103</td><td>⋯  </td><td>82 </td><td>118</td><td>76 </td><td>121</td><td>32 </td><td>85 </td><td>79 </td><td>140</td><td>59 </td><td>39 </td></tr>\n",
       "</tbody>\n",
       "</table>\n"
      ],
      "text/latex": [
       "\\begin{tabular}{llllllllllllllllllllllllllllllllllllllllllllllllllllllllllllllllllllllllllllllllllllllllllllllllllllllllllllllllllllllllllllllllllllllllllllllllllllll}\n",
       "\t 98  & 56  & 68  & 36  & 26  & 23  & 14  & 138 & 147 & 103 & ⋯   & 82  & 118 & 76  & 121 & 32  & 85  & 79  & 140 & 59  & 39 \\\\\n",
       "\\end{tabular}\n"
      ],
      "text/markdown": [
       "\n",
       "| 98  | 56  | 68  | 36  | 26  | 23  | 14  | 138 | 147 | 103 | ⋯   | 82  | 118 | 76  | 121 | 32  | 85  | 79  | 140 | 59  | 39  | \n",
       "\n",
       "\n"
      ],
      "text/plain": [
       "     [,1] [,2] [,3] [,4] [,5] [,6] [,7] [,8] [,9] [,10] [,11] [,12] [,13] [,14]\n",
       "[1,] 98   56   68   36   26   23   14   138  147  103   ⋯     82    118   76   \n",
       "     [,15] [,16] [,17] [,18] [,19] [,20] [,21]\n",
       "[1,] 121   32    85    79    140   59    39   "
      ]
     },
     "metadata": {},
     "output_type": "display_data"
    }
   ],
   "source": [
    "library(seriation)\n",
    "    data(\"iris\");\n",
    "    x <- as.matrix(iris[-5]);\n",
    "    x <- x[sample(1:nrow(x)),];\n",
    "    M <- dist(x)\n",
    "    D <- SFS::read(M)\n",
    "SFS::sfs(D, sfs_epsilon = 0.01, dissimilarity = TRUE)"
   ]
  },
  {
   "cell_type": "code",
   "execution_count": null,
   "metadata": {
    "collapsed": true
   },
   "outputs": [],
   "source": []
  }
 ],
 "metadata": {
  "kernelspec": {
   "display_name": "R",
   "language": "R",
   "name": "ir"
  },
  "language_info": {
   "codemirror_mode": "r",
   "file_extension": ".r",
   "mimetype": "text/x-r-source",
   "name": "R",
   "pygments_lexer": "r",
   "version": "3.2.3"
  }
 },
 "nbformat": 4,
 "nbformat_minor": 2
}
